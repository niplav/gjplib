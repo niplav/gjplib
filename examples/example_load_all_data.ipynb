{
 "cells": [
  {
   "cell_type": "code",
   "execution_count": 1,
   "outputs": [],
   "source": [
    "% load_ext autoreload"
   ],
   "metadata": {
    "collapsed": false,
    "pycharm": {
     "name": "#%%\n"
    }
   }
  },
  {
   "cell_type": "code",
   "execution_count": 2,
   "outputs": [],
   "source": [
    "% autoreload 2"
   ],
   "metadata": {
    "collapsed": false,
    "pycharm": {
     "name": "#%%\n"
    }
   }
  },
  {
   "cell_type": "markdown",
   "source": [
    "# Iqisa - A Library for Handling Forecasting Datasets"
   ],
   "metadata": {
    "collapsed": false,
    "pycharm": {
     "name": "#%% md\n"
    }
   }
  },
  {
   "cell_type": "code",
   "execution_count": 19,
   "outputs": [],
   "source": [
    "import numpy as np\n",
    "\n",
    "from iqisa import gjp\n",
    "import iqisa.iqisa as iqs\n",
    "\n",
    "DATA_DIR = \"<PATH_TO_THE_PROJECT>/data\"  # set the path to the data directory in this project's root\n",
    "\n",
    "market_fcasts_gjp = gjp.load_markets(data_dir=DATA_DIR)\n",
    "\n",
    "\n",
    "def brier_score(probabilities, outcomes):\n",
    "    return np.mean((probabilities - outcomes) ** 2)\n",
    "\n",
    "\n",
    "def brier_score_user(user_forecasts):\n",
    "    user_right = (user_forecasts['outcome'] == user_forecasts['answer_option'])\n",
    "    probabilities = user_forecasts['probability']\n",
    "    return np.mean((probabilities - user_right) ** 2)\n",
    "\n",
    "\n",
    "trader_scores = iqs.score(market_fcasts_gjp, brier_score, on=['user_id'])\n",
    "filtered_trader_scores = iqs.score(market_fcasts_gjp.groupby(['user_id']).filter(lambda x: len(x) > 100), brier_score, on=['user_id'])"
   ],
   "metadata": {
    "collapsed": false,
    "pycharm": {
     "name": "#%%\n"
    }
   }
  },
  {
   "cell_type": "code",
   "execution_count": 20,
   "outputs": [
    {
     "data": {
      "text/plain": "score    0.159194\ndtype: float64"
     },
     "execution_count": 20,
     "metadata": {},
     "output_type": "execute_result"
    }
   ],
   "source": [
    "trader_scores.mean()"
   ],
   "metadata": {
    "collapsed": false,
    "pycharm": {
     "name": "#%%\n"
    }
   }
  },
  {
   "cell_type": "code",
   "execution_count": 21,
   "outputs": [
    {
     "data": {
      "text/plain": "score    0.159018\ndtype: float64"
     },
     "execution_count": 21,
     "metadata": {},
     "output_type": "execute_result"
    }
   ],
   "source": [
    "filtered_trader_scores.mean()"
   ],
   "metadata": {
    "collapsed": false,
    "pycharm": {
     "name": "#%%\n"
    }
   }
  },
  {
   "cell_type": "markdown",
   "source": [
    "## Good Judgement Project"
   ],
   "metadata": {
    "collapsed": false,
    "pycharm": {
     "name": "#%% md\n"
    }
   }
  },
  {
   "cell_type": "code",
   "execution_count": 22,
   "outputs": [
    {
     "data": {
      "text/plain": "        question_id  user_id  team_id  probability answer_option  \\\n0            1040.0   6203.0      0.0       0.4000             a   \n1            1040.0   6203.0      0.0       0.4500             a   \n2            1040.0   6203.0      0.0       0.4000             a   \n3            1040.0   6585.0      0.0       0.4500             a   \n4            1040.0   6585.0      0.0       0.4500             a   \n...             ...      ...      ...          ...           ...   \n793496       1542.0  22183.0      9.0       0.0108             a   \n793497       1542.0  21975.0      9.0       0.0160             a   \n793498       1542.0  22127.0     11.0       0.0108             a   \n793499       1542.0  21975.0      9.0       0.0049             a   \n793500       1542.0  13854.0     28.0       0.0102             a   \n\n                 timestamp outcome  open_time          close_time  \\\n0      2012-06-16 08:24:55       a 2011-08-11 2012-06-29 00:00:00   \n1      2012-06-16 08:24:55       a 2011-08-11 2012-06-29 00:00:00   \n2      2012-06-16 08:24:55       a 2011-08-11 2012-06-29 00:00:00   \n3      2012-06-16 08:48:22       a 2011-08-11 2012-06-29 00:00:00   \n4      2012-06-16 08:48:22       a 2011-08-11 2012-06-29 00:00:00   \n...                    ...     ...        ...                 ...   \n793496 2015-08-06 10:38:00       b 2015-04-29 2015-09-06 23:59:00   \n793497 2015-08-06 11:31:00       b 2015-04-29 2015-09-06 23:59:00   \n793498 2015-09-06 05:58:00       b 2015-04-29 2015-09-06 23:59:00   \n793499 2015-09-06 14:48:00       b 2015-04-29 2015-09-06 23:59:00   \n793500 2015-09-06 15:09:00       b 2015-04-29 2015-09-06 23:59:00   \n\n       resolve_time time_open  n_opts          options  q_status  q_type  \n0        2012-06-30       NaT       2  (a) Yes, (b) No  resolved       0  \n1        2012-06-30       NaT       2  (a) Yes, (b) No  resolved       0  \n2        2012-06-30       NaT       2  (a) Yes, (b) No  resolved       0  \n3        2012-06-30       NaT       2  (a) Yes, (b) No  resolved       0  \n4        2012-06-30       NaT       2  (a) Yes, (b) No  resolved       0  \n...             ...       ...     ...              ...       ...     ...  \n793496   2015-10-06       NaT       2  (a) Yes, (b) No  resolved       0  \n793497   2015-10-06       NaT       2  (a) Yes, (b) No  resolved       0  \n793498   2015-10-06       NaT       2  (a) Yes, (b) No  resolved       0  \n793499   2015-10-06       NaT       2  (a) Yes, (b) No  resolved       0  \n793500   2015-10-06       NaT       2  (a) Yes, (b) No  resolved       0  \n\n[793501 rows x 15 columns]",
      "text/html": "<div>\n<style scoped>\n    .dataframe tbody tr th:only-of-type {\n        vertical-align: middle;\n    }\n\n    .dataframe tbody tr th {\n        vertical-align: top;\n    }\n\n    .dataframe thead th {\n        text-align: right;\n    }\n</style>\n<table border=\"1\" class=\"dataframe\">\n  <thead>\n    <tr style=\"text-align: right;\">\n      <th></th>\n      <th>question_id</th>\n      <th>user_id</th>\n      <th>team_id</th>\n      <th>probability</th>\n      <th>answer_option</th>\n      <th>timestamp</th>\n      <th>outcome</th>\n      <th>open_time</th>\n      <th>close_time</th>\n      <th>resolve_time</th>\n      <th>time_open</th>\n      <th>n_opts</th>\n      <th>options</th>\n      <th>q_status</th>\n      <th>q_type</th>\n    </tr>\n  </thead>\n  <tbody>\n    <tr>\n      <th>0</th>\n      <td>1040.0</td>\n      <td>6203.0</td>\n      <td>0.0</td>\n      <td>0.4000</td>\n      <td>a</td>\n      <td>2012-06-16 08:24:55</td>\n      <td>a</td>\n      <td>2011-08-11</td>\n      <td>2012-06-29 00:00:00</td>\n      <td>2012-06-30</td>\n      <td>NaT</td>\n      <td>2</td>\n      <td>(a) Yes, (b) No</td>\n      <td>resolved</td>\n      <td>0</td>\n    </tr>\n    <tr>\n      <th>1</th>\n      <td>1040.0</td>\n      <td>6203.0</td>\n      <td>0.0</td>\n      <td>0.4500</td>\n      <td>a</td>\n      <td>2012-06-16 08:24:55</td>\n      <td>a</td>\n      <td>2011-08-11</td>\n      <td>2012-06-29 00:00:00</td>\n      <td>2012-06-30</td>\n      <td>NaT</td>\n      <td>2</td>\n      <td>(a) Yes, (b) No</td>\n      <td>resolved</td>\n      <td>0</td>\n    </tr>\n    <tr>\n      <th>2</th>\n      <td>1040.0</td>\n      <td>6203.0</td>\n      <td>0.0</td>\n      <td>0.4000</td>\n      <td>a</td>\n      <td>2012-06-16 08:24:55</td>\n      <td>a</td>\n      <td>2011-08-11</td>\n      <td>2012-06-29 00:00:00</td>\n      <td>2012-06-30</td>\n      <td>NaT</td>\n      <td>2</td>\n      <td>(a) Yes, (b) No</td>\n      <td>resolved</td>\n      <td>0</td>\n    </tr>\n    <tr>\n      <th>3</th>\n      <td>1040.0</td>\n      <td>6585.0</td>\n      <td>0.0</td>\n      <td>0.4500</td>\n      <td>a</td>\n      <td>2012-06-16 08:48:22</td>\n      <td>a</td>\n      <td>2011-08-11</td>\n      <td>2012-06-29 00:00:00</td>\n      <td>2012-06-30</td>\n      <td>NaT</td>\n      <td>2</td>\n      <td>(a) Yes, (b) No</td>\n      <td>resolved</td>\n      <td>0</td>\n    </tr>\n    <tr>\n      <th>4</th>\n      <td>1040.0</td>\n      <td>6585.0</td>\n      <td>0.0</td>\n      <td>0.4500</td>\n      <td>a</td>\n      <td>2012-06-16 08:48:22</td>\n      <td>a</td>\n      <td>2011-08-11</td>\n      <td>2012-06-29 00:00:00</td>\n      <td>2012-06-30</td>\n      <td>NaT</td>\n      <td>2</td>\n      <td>(a) Yes, (b) No</td>\n      <td>resolved</td>\n      <td>0</td>\n    </tr>\n    <tr>\n      <th>...</th>\n      <td>...</td>\n      <td>...</td>\n      <td>...</td>\n      <td>...</td>\n      <td>...</td>\n      <td>...</td>\n      <td>...</td>\n      <td>...</td>\n      <td>...</td>\n      <td>...</td>\n      <td>...</td>\n      <td>...</td>\n      <td>...</td>\n      <td>...</td>\n      <td>...</td>\n    </tr>\n    <tr>\n      <th>793496</th>\n      <td>1542.0</td>\n      <td>22183.0</td>\n      <td>9.0</td>\n      <td>0.0108</td>\n      <td>a</td>\n      <td>2015-08-06 10:38:00</td>\n      <td>b</td>\n      <td>2015-04-29</td>\n      <td>2015-09-06 23:59:00</td>\n      <td>2015-10-06</td>\n      <td>NaT</td>\n      <td>2</td>\n      <td>(a) Yes, (b) No</td>\n      <td>resolved</td>\n      <td>0</td>\n    </tr>\n    <tr>\n      <th>793497</th>\n      <td>1542.0</td>\n      <td>21975.0</td>\n      <td>9.0</td>\n      <td>0.0160</td>\n      <td>a</td>\n      <td>2015-08-06 11:31:00</td>\n      <td>b</td>\n      <td>2015-04-29</td>\n      <td>2015-09-06 23:59:00</td>\n      <td>2015-10-06</td>\n      <td>NaT</td>\n      <td>2</td>\n      <td>(a) Yes, (b) No</td>\n      <td>resolved</td>\n      <td>0</td>\n    </tr>\n    <tr>\n      <th>793498</th>\n      <td>1542.0</td>\n      <td>22127.0</td>\n      <td>11.0</td>\n      <td>0.0108</td>\n      <td>a</td>\n      <td>2015-09-06 05:58:00</td>\n      <td>b</td>\n      <td>2015-04-29</td>\n      <td>2015-09-06 23:59:00</td>\n      <td>2015-10-06</td>\n      <td>NaT</td>\n      <td>2</td>\n      <td>(a) Yes, (b) No</td>\n      <td>resolved</td>\n      <td>0</td>\n    </tr>\n    <tr>\n      <th>793499</th>\n      <td>1542.0</td>\n      <td>21975.0</td>\n      <td>9.0</td>\n      <td>0.0049</td>\n      <td>a</td>\n      <td>2015-09-06 14:48:00</td>\n      <td>b</td>\n      <td>2015-04-29</td>\n      <td>2015-09-06 23:59:00</td>\n      <td>2015-10-06</td>\n      <td>NaT</td>\n      <td>2</td>\n      <td>(a) Yes, (b) No</td>\n      <td>resolved</td>\n      <td>0</td>\n    </tr>\n    <tr>\n      <th>793500</th>\n      <td>1542.0</td>\n      <td>13854.0</td>\n      <td>28.0</td>\n      <td>0.0102</td>\n      <td>a</td>\n      <td>2015-09-06 15:09:00</td>\n      <td>b</td>\n      <td>2015-04-29</td>\n      <td>2015-09-06 23:59:00</td>\n      <td>2015-10-06</td>\n      <td>NaT</td>\n      <td>2</td>\n      <td>(a) Yes, (b) No</td>\n      <td>resolved</td>\n      <td>0</td>\n    </tr>\n  </tbody>\n</table>\n<p>793501 rows × 15 columns</p>\n</div>"
     },
     "execution_count": 22,
     "metadata": {},
     "output_type": "execute_result"
    }
   ],
   "source": [
    "market_fcasts_gjp = gjp.load_markets(data_dir=DATA_DIR)\n",
    "market_fcasts_gjp"
   ],
   "metadata": {
    "collapsed": false,
    "pycharm": {
     "name": "#%%\n"
    }
   }
  },
  {
   "cell_type": "code",
   "execution_count": 45,
   "outputs": [
    {
     "data": {
      "text/plain": "(Timestamp('2012-01-07 00:27:50'), Timestamp('2015-12-05 22:35:00'))"
     },
     "execution_count": 45,
     "metadata": {},
     "output_type": "execute_result"
    }
   ],
   "source": [
    "market_fcasts_gjp.timestamp.min(), market_fcasts_gjp.timestamp.max()"
   ],
   "metadata": {
    "collapsed": false,
    "pycharm": {
     "name": "#%%\n"
    }
   }
  },
  {
   "cell_type": "code",
   "execution_count": 29,
   "outputs": [
    {
     "data": {
      "text/plain": "         question_id   user_id  team_id  probability answer_option  \\\n0             1004.0     600.0      NaN        0.100             a   \n1             1004.0     600.0      NaN        0.900             b   \n2             1004.0    2986.0      NaN        0.050             a   \n3             1004.0    2986.0      NaN        0.950             b   \n4             1004.0    3469.0      NaN        0.850             a   \n...              ...       ...      ...          ...           ...   \n3143455       1481.0  130745.0      NaN        0.430             d   \n3143456       1481.0  131234.0      NaN        0.005             a   \n3143457       1481.0  131234.0      NaN        0.005             b   \n3143458       1481.0  131234.0      NaN        0.050             c   \n3143459       1481.0  131234.0      NaN        0.950             d   \n\n                  timestamp outcome  open_time          close_time  \\\n0       2011-08-31 16:17:18       b 2011-01-09 2011-09-29 00:00:00   \n1       2011-08-31 16:17:18       b 2011-01-09 2011-09-29 00:00:00   \n2       2011-08-31 16:24:09       b 2011-01-09 2011-09-29 00:00:00   \n3       2011-08-31 16:24:09       b 2011-01-09 2011-09-29 00:00:00   \n4       2011-08-31 16:25:24       b 2011-01-09 2011-09-29 00:00:00   \n...                     ...     ...        ...                 ...   \n3143455 2014-12-28 14:20:07       d 2014-10-12 2014-12-14 09:00:00   \n3143456 2014-12-28 23:39:00       d 2014-10-12 2014-12-14 09:00:00   \n3143457 2014-12-28 23:39:00       d 2014-10-12 2014-12-14 09:00:00   \n3143458 2014-12-28 23:39:00       d 2014-10-12 2014-12-14 09:00:00   \n3143459 2014-12-28 23:39:00       d 2014-10-12 2014-12-14 09:00:00   \n\n        resolve_time time_open  n_opts  \\\n0         2011-09-30       NaT       2   \n1         2011-09-30       NaT       2   \n2         2011-09-30       NaT       2   \n3         2011-09-30       NaT       2   \n4         2011-09-30       NaT       2   \n...              ...       ...     ...   \n3143455   2015-03-31       NaT       4   \n3143456   2015-03-31       NaT       4   \n3143457   2015-03-31       NaT       4   \n3143458   2015-03-31       NaT       4   \n3143459   2015-03-31       NaT       4   \n\n                                               options  q_status  q_type  \n0                                      (a) Yes, (b) No  resolved       0  \n1                                      (a) Yes, (b) No  resolved       0  \n2                                      (a) Yes, (b) No  resolved       0  \n3                                      (a) Yes, (b) No  resolved       0  \n4                                      (a) Yes, (b) No  resolved       0  \n...                                                ...       ...     ...  \n3143455  (a) None, (b) One, (c) Two, (d) Three or more  resolved       6  \n3143456  (a) None, (b) One, (c) Two, (d) Three or more  resolved       6  \n3143457  (a) None, (b) One, (c) Two, (d) Three or more  resolved       6  \n3143458  (a) None, (b) One, (c) Two, (d) Three or more  resolved       6  \n3143459  (a) None, (b) One, (c) Two, (d) Three or more  resolved       6  \n\n[3143460 rows x 15 columns]",
      "text/html": "<div>\n<style scoped>\n    .dataframe tbody tr th:only-of-type {\n        vertical-align: middle;\n    }\n\n    .dataframe tbody tr th {\n        vertical-align: top;\n    }\n\n    .dataframe thead th {\n        text-align: right;\n    }\n</style>\n<table border=\"1\" class=\"dataframe\">\n  <thead>\n    <tr style=\"text-align: right;\">\n      <th></th>\n      <th>question_id</th>\n      <th>user_id</th>\n      <th>team_id</th>\n      <th>probability</th>\n      <th>answer_option</th>\n      <th>timestamp</th>\n      <th>outcome</th>\n      <th>open_time</th>\n      <th>close_time</th>\n      <th>resolve_time</th>\n      <th>time_open</th>\n      <th>n_opts</th>\n      <th>options</th>\n      <th>q_status</th>\n      <th>q_type</th>\n    </tr>\n  </thead>\n  <tbody>\n    <tr>\n      <th>0</th>\n      <td>1004.0</td>\n      <td>600.0</td>\n      <td>NaN</td>\n      <td>0.100</td>\n      <td>a</td>\n      <td>2011-08-31 16:17:18</td>\n      <td>b</td>\n      <td>2011-01-09</td>\n      <td>2011-09-29 00:00:00</td>\n      <td>2011-09-30</td>\n      <td>NaT</td>\n      <td>2</td>\n      <td>(a) Yes, (b) No</td>\n      <td>resolved</td>\n      <td>0</td>\n    </tr>\n    <tr>\n      <th>1</th>\n      <td>1004.0</td>\n      <td>600.0</td>\n      <td>NaN</td>\n      <td>0.900</td>\n      <td>b</td>\n      <td>2011-08-31 16:17:18</td>\n      <td>b</td>\n      <td>2011-01-09</td>\n      <td>2011-09-29 00:00:00</td>\n      <td>2011-09-30</td>\n      <td>NaT</td>\n      <td>2</td>\n      <td>(a) Yes, (b) No</td>\n      <td>resolved</td>\n      <td>0</td>\n    </tr>\n    <tr>\n      <th>2</th>\n      <td>1004.0</td>\n      <td>2986.0</td>\n      <td>NaN</td>\n      <td>0.050</td>\n      <td>a</td>\n      <td>2011-08-31 16:24:09</td>\n      <td>b</td>\n      <td>2011-01-09</td>\n      <td>2011-09-29 00:00:00</td>\n      <td>2011-09-30</td>\n      <td>NaT</td>\n      <td>2</td>\n      <td>(a) Yes, (b) No</td>\n      <td>resolved</td>\n      <td>0</td>\n    </tr>\n    <tr>\n      <th>3</th>\n      <td>1004.0</td>\n      <td>2986.0</td>\n      <td>NaN</td>\n      <td>0.950</td>\n      <td>b</td>\n      <td>2011-08-31 16:24:09</td>\n      <td>b</td>\n      <td>2011-01-09</td>\n      <td>2011-09-29 00:00:00</td>\n      <td>2011-09-30</td>\n      <td>NaT</td>\n      <td>2</td>\n      <td>(a) Yes, (b) No</td>\n      <td>resolved</td>\n      <td>0</td>\n    </tr>\n    <tr>\n      <th>4</th>\n      <td>1004.0</td>\n      <td>3469.0</td>\n      <td>NaN</td>\n      <td>0.850</td>\n      <td>a</td>\n      <td>2011-08-31 16:25:24</td>\n      <td>b</td>\n      <td>2011-01-09</td>\n      <td>2011-09-29 00:00:00</td>\n      <td>2011-09-30</td>\n      <td>NaT</td>\n      <td>2</td>\n      <td>(a) Yes, (b) No</td>\n      <td>resolved</td>\n      <td>0</td>\n    </tr>\n    <tr>\n      <th>...</th>\n      <td>...</td>\n      <td>...</td>\n      <td>...</td>\n      <td>...</td>\n      <td>...</td>\n      <td>...</td>\n      <td>...</td>\n      <td>...</td>\n      <td>...</td>\n      <td>...</td>\n      <td>...</td>\n      <td>...</td>\n      <td>...</td>\n      <td>...</td>\n      <td>...</td>\n    </tr>\n    <tr>\n      <th>3143455</th>\n      <td>1481.0</td>\n      <td>130745.0</td>\n      <td>NaN</td>\n      <td>0.430</td>\n      <td>d</td>\n      <td>2014-12-28 14:20:07</td>\n      <td>d</td>\n      <td>2014-10-12</td>\n      <td>2014-12-14 09:00:00</td>\n      <td>2015-03-31</td>\n      <td>NaT</td>\n      <td>4</td>\n      <td>(a) None, (b) One, (c) Two, (d) Three or more</td>\n      <td>resolved</td>\n      <td>6</td>\n    </tr>\n    <tr>\n      <th>3143456</th>\n      <td>1481.0</td>\n      <td>131234.0</td>\n      <td>NaN</td>\n      <td>0.005</td>\n      <td>a</td>\n      <td>2014-12-28 23:39:00</td>\n      <td>d</td>\n      <td>2014-10-12</td>\n      <td>2014-12-14 09:00:00</td>\n      <td>2015-03-31</td>\n      <td>NaT</td>\n      <td>4</td>\n      <td>(a) None, (b) One, (c) Two, (d) Three or more</td>\n      <td>resolved</td>\n      <td>6</td>\n    </tr>\n    <tr>\n      <th>3143457</th>\n      <td>1481.0</td>\n      <td>131234.0</td>\n      <td>NaN</td>\n      <td>0.005</td>\n      <td>b</td>\n      <td>2014-12-28 23:39:00</td>\n      <td>d</td>\n      <td>2014-10-12</td>\n      <td>2014-12-14 09:00:00</td>\n      <td>2015-03-31</td>\n      <td>NaT</td>\n      <td>4</td>\n      <td>(a) None, (b) One, (c) Two, (d) Three or more</td>\n      <td>resolved</td>\n      <td>6</td>\n    </tr>\n    <tr>\n      <th>3143458</th>\n      <td>1481.0</td>\n      <td>131234.0</td>\n      <td>NaN</td>\n      <td>0.050</td>\n      <td>c</td>\n      <td>2014-12-28 23:39:00</td>\n      <td>d</td>\n      <td>2014-10-12</td>\n      <td>2014-12-14 09:00:00</td>\n      <td>2015-03-31</td>\n      <td>NaT</td>\n      <td>4</td>\n      <td>(a) None, (b) One, (c) Two, (d) Three or more</td>\n      <td>resolved</td>\n      <td>6</td>\n    </tr>\n    <tr>\n      <th>3143459</th>\n      <td>1481.0</td>\n      <td>131234.0</td>\n      <td>NaN</td>\n      <td>0.950</td>\n      <td>d</td>\n      <td>2014-12-28 23:39:00</td>\n      <td>d</td>\n      <td>2014-10-12</td>\n      <td>2014-12-14 09:00:00</td>\n      <td>2015-03-31</td>\n      <td>NaT</td>\n      <td>4</td>\n      <td>(a) None, (b) One, (c) Two, (d) Three or more</td>\n      <td>resolved</td>\n      <td>6</td>\n    </tr>\n  </tbody>\n</table>\n<p>3143460 rows × 15 columns</p>\n</div>"
     },
     "execution_count": 29,
     "metadata": {},
     "output_type": "execute_result"
    }
   ],
   "source": [
    "surveys_gjp = gjp.load_surveys(data_dir=DATA_DIR)\n",
    "surveys_gjp"
   ],
   "metadata": {
    "collapsed": false,
    "pycharm": {
     "name": "#%%\n"
    }
   }
  },
  {
   "cell_type": "code",
   "execution_count": 30,
   "outputs": [
    {
     "data": {
      "text/plain": "(Timestamp('2011-08-31 16:17:18'), Timestamp('2015-06-09 23:53:26'))"
     },
     "execution_count": 30,
     "metadata": {},
     "output_type": "execute_result"
    }
   ],
   "source": [
    "surveys_gjp.timestamp.min(), surveys_gjp.timestamp.max()"
   ],
   "metadata": {
    "collapsed": false,
    "pycharm": {
     "name": "#%%\n"
    }
   }
  },
  {
   "cell_type": "code",
   "execution_count": 35,
   "outputs": [
    {
     "data": {
      "text/plain": "     question_id  q_type                                            q_title  \\\n0         1001.0       0  Will the Six-Party talks (among the US, North ...   \n1         1002.0       0  Who will be inaugurated as President of Russia...   \n2         1003.0       0  Will Serbia be officially granted EU candidacy...   \n3         1004.0       0  Will the United Nations General Assembly recog...   \n4         1005.0       0  Will Daniel Ortega win another term as Preside...   \n..           ...     ...                                                ...   \n612       5108.0       0  Will the Dow Jones Industrial Average daily cl...   \n613       5109.0       0  Will Malaysia Airlines *officially file for ba...   \n614       5110.0       6  How many games will the Boston Red Sox be out ...   \n615       6379.0       0  Will Yingluck Shinawatra vacate the office of ...   \n616       6413.0       0  Will the Kurdistan Regional Government *hold a...   \n\n                                                q_desc q_status  open_time  \\\n0    'In' refers to any time during the remainder o...   closed 2011-01-09   \n1    'In' refers to any time during the 2012 calend...   closed 2011-01-09   \n2    A 'yes' answer to this question requires not o...   closed 2011-01-09   \n3    'By' means at or prior to the end of the day o...   closed 2011-01-09   \n4    If the Nicaraguan elections do not occur in la...   closed 2011-01-09   \n..                                                 ...      ...        ...   \n612  Outcome will be determined based on reporting ...   voided 2014-07-28   \n613  Outcome will be determined by credible open so...   voided 2014-07-28   \n614  The question will be resolved once the game is...   voided 2014-07-28   \n615  Yingluck Shinawatra will be considered to not ...   closed 2014-12-03   \n616  Amidst a backdrop of violence in Iraq, Kurdish...   closed 2014-10-17   \n\n             close_time resolve_time close_date outcome  \\\n0   2011-12-30 00:00:00   2011-12-31 2012-02-01       b   \n1   2012-05-14 00:00:00   2012-05-15 2012-06-05       b   \n2   2011-12-30 00:00:00   2011-12-31 2012-03-01       b   \n3   2011-09-29 00:00:00   2011-09-30 2011-09-30       b   \n4   2011-04-11 00:00:00   2011-05-11 2011-05-11       a   \n..                  ...          ...        ...     ...   \n612                 NaT   2014-08-19        NaT     NaN   \n613                 NaT   2014-08-20        NaT     NaN   \n614                 NaT   2014-08-19        NaT     NaN   \n615 2014-04-30 09:00:00   2014-04-30 2014-04-30       b   \n616 2015-09-06 09:00:00   2015-09-06 2015-09-06       b   \n\n                            short_title time_open  n_opts  \\\n0                Six-party talks resume  123 days       2   \n1                   president of Russia  248 days       3   \n2                   Serbia EU candidacy  124 days       2   \n3             UN-GA recognize Palestine   29 days       2   \n4               Ortega win in Nicaragua   65 days       2   \n..                                  ...       ...     ...   \n612             Dow Jones Closing Value       NaT       2   \n613        Malaysia Airlines Bankruptcy       NaT       2   \n614                            Red Sox        NaT       4   \n615  Thailand: Shinawatra leaves office   49 days       2   \n616                Kurdistan Referendum  235 days       2   \n\n                                               options  \n0                                      (a) Yes, (b) No  \n1                 (a) Medvedev, (b) Putin, (c) Neither  \n2                                      (a) Yes, (b) No  \n3                                      (a) Yes, (b) No  \n4                                      (a) Yes, (b) No  \n..                                                 ...  \n612                                    (a) Yes, (b) No  \n613                                    (a) Yes, (b) No  \n614  (a) 10 or more, (b) 9.5-7, (c) 6.5-4, (d) Less...  \n615                                    (a) Yes, (b) No  \n616                                    (a) Yes, (b) No  \n\n[617 rows x 14 columns]",
      "text/html": "<div>\n<style scoped>\n    .dataframe tbody tr th:only-of-type {\n        vertical-align: middle;\n    }\n\n    .dataframe tbody tr th {\n        vertical-align: top;\n    }\n\n    .dataframe thead th {\n        text-align: right;\n    }\n</style>\n<table border=\"1\" class=\"dataframe\">\n  <thead>\n    <tr style=\"text-align: right;\">\n      <th></th>\n      <th>question_id</th>\n      <th>q_type</th>\n      <th>q_title</th>\n      <th>q_desc</th>\n      <th>q_status</th>\n      <th>open_time</th>\n      <th>close_time</th>\n      <th>resolve_time</th>\n      <th>close_date</th>\n      <th>outcome</th>\n      <th>short_title</th>\n      <th>time_open</th>\n      <th>n_opts</th>\n      <th>options</th>\n    </tr>\n  </thead>\n  <tbody>\n    <tr>\n      <th>0</th>\n      <td>1001.0</td>\n      <td>0</td>\n      <td>Will the Six-Party talks (among the US, North ...</td>\n      <td>'In' refers to any time during the remainder o...</td>\n      <td>closed</td>\n      <td>2011-01-09</td>\n      <td>2011-12-30 00:00:00</td>\n      <td>2011-12-31</td>\n      <td>2012-02-01</td>\n      <td>b</td>\n      <td>Six-party talks resume</td>\n      <td>123 days</td>\n      <td>2</td>\n      <td>(a) Yes, (b) No</td>\n    </tr>\n    <tr>\n      <th>1</th>\n      <td>1002.0</td>\n      <td>0</td>\n      <td>Who will be inaugurated as President of Russia...</td>\n      <td>'In' refers to any time during the 2012 calend...</td>\n      <td>closed</td>\n      <td>2011-01-09</td>\n      <td>2012-05-14 00:00:00</td>\n      <td>2012-05-15</td>\n      <td>2012-06-05</td>\n      <td>b</td>\n      <td>president of Russia</td>\n      <td>248 days</td>\n      <td>3</td>\n      <td>(a) Medvedev, (b) Putin, (c) Neither</td>\n    </tr>\n    <tr>\n      <th>2</th>\n      <td>1003.0</td>\n      <td>0</td>\n      <td>Will Serbia be officially granted EU candidacy...</td>\n      <td>A 'yes' answer to this question requires not o...</td>\n      <td>closed</td>\n      <td>2011-01-09</td>\n      <td>2011-12-30 00:00:00</td>\n      <td>2011-12-31</td>\n      <td>2012-03-01</td>\n      <td>b</td>\n      <td>Serbia EU candidacy</td>\n      <td>124 days</td>\n      <td>2</td>\n      <td>(a) Yes, (b) No</td>\n    </tr>\n    <tr>\n      <th>3</th>\n      <td>1004.0</td>\n      <td>0</td>\n      <td>Will the United Nations General Assembly recog...</td>\n      <td>'By' means at or prior to the end of the day o...</td>\n      <td>closed</td>\n      <td>2011-01-09</td>\n      <td>2011-09-29 00:00:00</td>\n      <td>2011-09-30</td>\n      <td>2011-09-30</td>\n      <td>b</td>\n      <td>UN-GA recognize Palestine</td>\n      <td>29 days</td>\n      <td>2</td>\n      <td>(a) Yes, (b) No</td>\n    </tr>\n    <tr>\n      <th>4</th>\n      <td>1005.0</td>\n      <td>0</td>\n      <td>Will Daniel Ortega win another term as Preside...</td>\n      <td>If the Nicaraguan elections do not occur in la...</td>\n      <td>closed</td>\n      <td>2011-01-09</td>\n      <td>2011-04-11 00:00:00</td>\n      <td>2011-05-11</td>\n      <td>2011-05-11</td>\n      <td>a</td>\n      <td>Ortega win in Nicaragua</td>\n      <td>65 days</td>\n      <td>2</td>\n      <td>(a) Yes, (b) No</td>\n    </tr>\n    <tr>\n      <th>...</th>\n      <td>...</td>\n      <td>...</td>\n      <td>...</td>\n      <td>...</td>\n      <td>...</td>\n      <td>...</td>\n      <td>...</td>\n      <td>...</td>\n      <td>...</td>\n      <td>...</td>\n      <td>...</td>\n      <td>...</td>\n      <td>...</td>\n      <td>...</td>\n    </tr>\n    <tr>\n      <th>612</th>\n      <td>5108.0</td>\n      <td>0</td>\n      <td>Will the Dow Jones Industrial Average daily cl...</td>\n      <td>Outcome will be determined based on reporting ...</td>\n      <td>voided</td>\n      <td>2014-07-28</td>\n      <td>NaT</td>\n      <td>2014-08-19</td>\n      <td>NaT</td>\n      <td>NaN</td>\n      <td>Dow Jones Closing Value</td>\n      <td>NaT</td>\n      <td>2</td>\n      <td>(a) Yes, (b) No</td>\n    </tr>\n    <tr>\n      <th>613</th>\n      <td>5109.0</td>\n      <td>0</td>\n      <td>Will Malaysia Airlines *officially file for ba...</td>\n      <td>Outcome will be determined by credible open so...</td>\n      <td>voided</td>\n      <td>2014-07-28</td>\n      <td>NaT</td>\n      <td>2014-08-20</td>\n      <td>NaT</td>\n      <td>NaN</td>\n      <td>Malaysia Airlines Bankruptcy</td>\n      <td>NaT</td>\n      <td>2</td>\n      <td>(a) Yes, (b) No</td>\n    </tr>\n    <tr>\n      <th>614</th>\n      <td>5110.0</td>\n      <td>6</td>\n      <td>How many games will the Boston Red Sox be out ...</td>\n      <td>The question will be resolved once the game is...</td>\n      <td>voided</td>\n      <td>2014-07-28</td>\n      <td>NaT</td>\n      <td>2014-08-19</td>\n      <td>NaT</td>\n      <td>NaN</td>\n      <td>Red Sox</td>\n      <td>NaT</td>\n      <td>4</td>\n      <td>(a) 10 or more, (b) 9.5-7, (c) 6.5-4, (d) Less...</td>\n    </tr>\n    <tr>\n      <th>615</th>\n      <td>6379.0</td>\n      <td>0</td>\n      <td>Will Yingluck Shinawatra vacate the office of ...</td>\n      <td>Yingluck Shinawatra will be considered to not ...</td>\n      <td>closed</td>\n      <td>2014-12-03</td>\n      <td>2014-04-30 09:00:00</td>\n      <td>2014-04-30</td>\n      <td>2014-04-30</td>\n      <td>b</td>\n      <td>Thailand: Shinawatra leaves office</td>\n      <td>49 days</td>\n      <td>2</td>\n      <td>(a) Yes, (b) No</td>\n    </tr>\n    <tr>\n      <th>616</th>\n      <td>6413.0</td>\n      <td>0</td>\n      <td>Will the Kurdistan Regional Government *hold a...</td>\n      <td>Amidst a backdrop of violence in Iraq, Kurdish...</td>\n      <td>closed</td>\n      <td>2014-10-17</td>\n      <td>2015-09-06 09:00:00</td>\n      <td>2015-09-06</td>\n      <td>2015-09-06</td>\n      <td>b</td>\n      <td>Kurdistan Referendum</td>\n      <td>235 days</td>\n      <td>2</td>\n      <td>(a) Yes, (b) No</td>\n    </tr>\n  </tbody>\n</table>\n<p>617 rows × 14 columns</p>\n</div>"
     },
     "execution_count": 35,
     "metadata": {},
     "output_type": "execute_result"
    }
   ],
   "source": [
    "questions_gjp = gjp.load_questions(data_dir=DATA_DIR)\n",
    "questions_gjp"
   ],
   "metadata": {
    "collapsed": false,
    "pycharm": {
     "name": "#%%\n"
    }
   }
  },
  {
   "cell_type": "markdown",
   "source": [
    "## Metaculus"
   ],
   "metadata": {
    "collapsed": false,
    "pycharm": {
     "name": "#%% md\n"
    }
   }
  },
  {
   "cell_type": "code",
   "execution_count": 25,
   "outputs": [
    {
     "data": {
      "text/plain": "        question_id  user_id  team_id  probability  answer_option  \\\n0                 1        0        0        0.690              1   \n1                 1        0        0        0.750              1   \n2                 1        0        0        0.750              1   \n3                 1        0        0        0.750              1   \n4                 1        0        0        0.750              1   \n...             ...      ...      ...          ...            ...   \n217686        12095        0        0        0.800              1   \n217687        12095        0        0        0.735              1   \n217688        12095        0        0        0.740              1   \n217689        12095        0        0        0.670              1   \n217690        12095        0        0        0.670              1   \n\n                        timestamp outcome                 open_time  \\\n0      2015-10-02 04:36:23.463465       0 2015-10-02 02:34:00+00:00   \n1      2015-11-03 22:35:14.195666       0 2015-10-02 02:34:00+00:00   \n2      2015-11-03 22:36:25.264527       0 2015-10-02 02:34:00+00:00   \n3      2015-11-04 03:19:20.937501       0 2015-10-02 02:34:00+00:00   \n4      2015-11-04 03:19:27.131253       0 2015-10-02 02:34:00+00:00   \n...                           ...     ...                       ...   \n217686 2022-08-05 09:02:04.792614    None 2022-08-05 07:00:00+00:00   \n217687 2022-08-05 09:13:05.602613    None 2022-08-05 07:00:00+00:00   \n217688 2022-08-05 11:50:39.698901    None 2022-08-05 07:00:00+00:00   \n217689 2022-08-05 18:58:50.818388    None 2022-08-05 07:00:00+00:00   \n217690 2022-08-06 02:58:24.874832    None 2022-08-05 07:00:00+00:00   \n\n                      close_time              resolve_time  \\\n0      2015-12-15 03:34:00+00:00 2016-02-01 03:34:00+00:00   \n1      2015-12-15 03:34:00+00:00 2016-02-01 03:34:00+00:00   \n2      2015-12-15 03:34:00+00:00 2016-02-01 03:34:00+00:00   \n3      2015-12-15 03:34:00+00:00 2016-02-01 03:34:00+00:00   \n4      2015-12-15 03:34:00+00:00 2016-02-01 03:34:00+00:00   \n...                          ...                       ...   \n217686 2027-01-01 00:00:00+00:00 2030-05-31 23:00:00+00:00   \n217687 2027-01-01 00:00:00+00:00 2030-05-31 23:00:00+00:00   \n217688 2027-01-01 00:00:00+00:00 2030-05-31 23:00:00+00:00   \n217689 2027-01-01 00:00:00+00:00 2030-05-31 23:00:00+00:00   \n217690 2027-01-01 00:00:00+00:00 2030-05-31 23:00:00+00:00   \n\n                  time_open  n_opts  \\\n0          74 days, 1:00:00       2   \n1          74 days, 1:00:00       2   \n2          74 days, 1:00:00       2   \n3          74 days, 1:00:00       2   \n4          74 days, 1:00:00       2   \n...                     ...     ...   \n217686  1609 days, 17:00:00       2   \n217687  1609 days, 17:00:00       2   \n217688  1609 days, 17:00:00       2   \n217689  1609 days, 17:00:00       2   \n217690  1609 days, 17:00:00       2   \n\n                                                  options  q_status  q_type  \n0       (0) No, (1) Yes, (-1) Ambiguous, (None) Still ...  resolved       0  \n1       (0) No, (1) Yes, (-1) Ambiguous, (None) Still ...  resolved       0  \n2       (0) No, (1) Yes, (-1) Ambiguous, (None) Still ...  resolved       0  \n3       (0) No, (1) Yes, (-1) Ambiguous, (None) Still ...  resolved       0  \n4       (0) No, (1) Yes, (-1) Ambiguous, (None) Still ...  resolved       0  \n...                                                   ...       ...     ...  \n217686  (0) No, (1) Yes, (-1) Ambiguous, (None) Still ...      open       0  \n217687  (0) No, (1) Yes, (-1) Ambiguous, (None) Still ...      open       0  \n217688  (0) No, (1) Yes, (-1) Ambiguous, (None) Still ...      open       0  \n217689  (0) No, (1) Yes, (-1) Ambiguous, (None) Still ...      open       0  \n217690  (0) No, (1) Yes, (-1) Ambiguous, (None) Still ...      open       0  \n\n[217691 rows x 15 columns]",
      "text/html": "<div>\n<style scoped>\n    .dataframe tbody tr th:only-of-type {\n        vertical-align: middle;\n    }\n\n    .dataframe tbody tr th {\n        vertical-align: top;\n    }\n\n    .dataframe thead th {\n        text-align: right;\n    }\n</style>\n<table border=\"1\" class=\"dataframe\">\n  <thead>\n    <tr style=\"text-align: right;\">\n      <th></th>\n      <th>question_id</th>\n      <th>user_id</th>\n      <th>team_id</th>\n      <th>probability</th>\n      <th>answer_option</th>\n      <th>timestamp</th>\n      <th>outcome</th>\n      <th>open_time</th>\n      <th>close_time</th>\n      <th>resolve_time</th>\n      <th>time_open</th>\n      <th>n_opts</th>\n      <th>options</th>\n      <th>q_status</th>\n      <th>q_type</th>\n    </tr>\n  </thead>\n  <tbody>\n    <tr>\n      <th>0</th>\n      <td>1</td>\n      <td>0</td>\n      <td>0</td>\n      <td>0.690</td>\n      <td>1</td>\n      <td>2015-10-02 04:36:23.463465</td>\n      <td>0</td>\n      <td>2015-10-02 02:34:00+00:00</td>\n      <td>2015-12-15 03:34:00+00:00</td>\n      <td>2016-02-01 03:34:00+00:00</td>\n      <td>74 days, 1:00:00</td>\n      <td>2</td>\n      <td>(0) No, (1) Yes, (-1) Ambiguous, (None) Still ...</td>\n      <td>resolved</td>\n      <td>0</td>\n    </tr>\n    <tr>\n      <th>1</th>\n      <td>1</td>\n      <td>0</td>\n      <td>0</td>\n      <td>0.750</td>\n      <td>1</td>\n      <td>2015-11-03 22:35:14.195666</td>\n      <td>0</td>\n      <td>2015-10-02 02:34:00+00:00</td>\n      <td>2015-12-15 03:34:00+00:00</td>\n      <td>2016-02-01 03:34:00+00:00</td>\n      <td>74 days, 1:00:00</td>\n      <td>2</td>\n      <td>(0) No, (1) Yes, (-1) Ambiguous, (None) Still ...</td>\n      <td>resolved</td>\n      <td>0</td>\n    </tr>\n    <tr>\n      <th>2</th>\n      <td>1</td>\n      <td>0</td>\n      <td>0</td>\n      <td>0.750</td>\n      <td>1</td>\n      <td>2015-11-03 22:36:25.264527</td>\n      <td>0</td>\n      <td>2015-10-02 02:34:00+00:00</td>\n      <td>2015-12-15 03:34:00+00:00</td>\n      <td>2016-02-01 03:34:00+00:00</td>\n      <td>74 days, 1:00:00</td>\n      <td>2</td>\n      <td>(0) No, (1) Yes, (-1) Ambiguous, (None) Still ...</td>\n      <td>resolved</td>\n      <td>0</td>\n    </tr>\n    <tr>\n      <th>3</th>\n      <td>1</td>\n      <td>0</td>\n      <td>0</td>\n      <td>0.750</td>\n      <td>1</td>\n      <td>2015-11-04 03:19:20.937501</td>\n      <td>0</td>\n      <td>2015-10-02 02:34:00+00:00</td>\n      <td>2015-12-15 03:34:00+00:00</td>\n      <td>2016-02-01 03:34:00+00:00</td>\n      <td>74 days, 1:00:00</td>\n      <td>2</td>\n      <td>(0) No, (1) Yes, (-1) Ambiguous, (None) Still ...</td>\n      <td>resolved</td>\n      <td>0</td>\n    </tr>\n    <tr>\n      <th>4</th>\n      <td>1</td>\n      <td>0</td>\n      <td>0</td>\n      <td>0.750</td>\n      <td>1</td>\n      <td>2015-11-04 03:19:27.131253</td>\n      <td>0</td>\n      <td>2015-10-02 02:34:00+00:00</td>\n      <td>2015-12-15 03:34:00+00:00</td>\n      <td>2016-02-01 03:34:00+00:00</td>\n      <td>74 days, 1:00:00</td>\n      <td>2</td>\n      <td>(0) No, (1) Yes, (-1) Ambiguous, (None) Still ...</td>\n      <td>resolved</td>\n      <td>0</td>\n    </tr>\n    <tr>\n      <th>...</th>\n      <td>...</td>\n      <td>...</td>\n      <td>...</td>\n      <td>...</td>\n      <td>...</td>\n      <td>...</td>\n      <td>...</td>\n      <td>...</td>\n      <td>...</td>\n      <td>...</td>\n      <td>...</td>\n      <td>...</td>\n      <td>...</td>\n      <td>...</td>\n      <td>...</td>\n    </tr>\n    <tr>\n      <th>217686</th>\n      <td>12095</td>\n      <td>0</td>\n      <td>0</td>\n      <td>0.800</td>\n      <td>1</td>\n      <td>2022-08-05 09:02:04.792614</td>\n      <td>None</td>\n      <td>2022-08-05 07:00:00+00:00</td>\n      <td>2027-01-01 00:00:00+00:00</td>\n      <td>2030-05-31 23:00:00+00:00</td>\n      <td>1609 days, 17:00:00</td>\n      <td>2</td>\n      <td>(0) No, (1) Yes, (-1) Ambiguous, (None) Still ...</td>\n      <td>open</td>\n      <td>0</td>\n    </tr>\n    <tr>\n      <th>217687</th>\n      <td>12095</td>\n      <td>0</td>\n      <td>0</td>\n      <td>0.735</td>\n      <td>1</td>\n      <td>2022-08-05 09:13:05.602613</td>\n      <td>None</td>\n      <td>2022-08-05 07:00:00+00:00</td>\n      <td>2027-01-01 00:00:00+00:00</td>\n      <td>2030-05-31 23:00:00+00:00</td>\n      <td>1609 days, 17:00:00</td>\n      <td>2</td>\n      <td>(0) No, (1) Yes, (-1) Ambiguous, (None) Still ...</td>\n      <td>open</td>\n      <td>0</td>\n    </tr>\n    <tr>\n      <th>217688</th>\n      <td>12095</td>\n      <td>0</td>\n      <td>0</td>\n      <td>0.740</td>\n      <td>1</td>\n      <td>2022-08-05 11:50:39.698901</td>\n      <td>None</td>\n      <td>2022-08-05 07:00:00+00:00</td>\n      <td>2027-01-01 00:00:00+00:00</td>\n      <td>2030-05-31 23:00:00+00:00</td>\n      <td>1609 days, 17:00:00</td>\n      <td>2</td>\n      <td>(0) No, (1) Yes, (-1) Ambiguous, (None) Still ...</td>\n      <td>open</td>\n      <td>0</td>\n    </tr>\n    <tr>\n      <th>217689</th>\n      <td>12095</td>\n      <td>0</td>\n      <td>0</td>\n      <td>0.670</td>\n      <td>1</td>\n      <td>2022-08-05 18:58:50.818388</td>\n      <td>None</td>\n      <td>2022-08-05 07:00:00+00:00</td>\n      <td>2027-01-01 00:00:00+00:00</td>\n      <td>2030-05-31 23:00:00+00:00</td>\n      <td>1609 days, 17:00:00</td>\n      <td>2</td>\n      <td>(0) No, (1) Yes, (-1) Ambiguous, (None) Still ...</td>\n      <td>open</td>\n      <td>0</td>\n    </tr>\n    <tr>\n      <th>217690</th>\n      <td>12095</td>\n      <td>0</td>\n      <td>0</td>\n      <td>0.670</td>\n      <td>1</td>\n      <td>2022-08-06 02:58:24.874832</td>\n      <td>None</td>\n      <td>2022-08-05 07:00:00+00:00</td>\n      <td>2027-01-01 00:00:00+00:00</td>\n      <td>2030-05-31 23:00:00+00:00</td>\n      <td>1609 days, 17:00:00</td>\n      <td>2</td>\n      <td>(0) No, (1) Yes, (-1) Ambiguous, (None) Still ...</td>\n      <td>open</td>\n      <td>0</td>\n    </tr>\n  </tbody>\n</table>\n<p>217691 rows × 15 columns</p>\n</div>"
     },
     "execution_count": 25,
     "metadata": {},
     "output_type": "execute_result"
    }
   ],
   "source": [
    "from iqisa import metaculus\n",
    "\n",
    "market_fcasts_metaculus = metaculus.load_public_binary(data_dir=DATA_DIR)\n",
    "market_fcasts_metaculus"
   ],
   "metadata": {
    "collapsed": false,
    "pycharm": {
     "name": "#%%\n"
    }
   }
  },
  {
   "cell_type": "code",
   "execution_count": 41,
   "outputs": [
    {
     "data": {
      "text/plain": "(Timestamp('2015-10-02 04:36:23.463465'), Timestamp('2023-06-01 13:00:00'))"
     },
     "execution_count": 41,
     "metadata": {},
     "output_type": "execute_result"
    }
   ],
   "source": [
    "market_fcasts_metaculus.timestamp.min(), market_fcasts_metaculus.timestamp.max()"
   ],
   "metadata": {
    "collapsed": false,
    "pycharm": {
     "name": "#%%\n"
    }
   }
  },
  {
   "cell_type": "code",
   "execution_count": 43,
   "outputs": [
    {
     "data": {
      "text/plain": "(Timestamp('2015-11-30 19:38:00+0000', tz='UTC'),\n Timestamp('2200-01-01 23:34:00+0000', tz='UTC'))"
     },
     "execution_count": 43,
     "metadata": {},
     "output_type": "execute_result"
    }
   ],
   "source": [
    "market_fcasts_metaculus.close_time.min(), market_fcasts_metaculus.close_time.max()"
   ],
   "metadata": {
    "collapsed": false,
    "pycharm": {
     "name": "#%%\n"
    }
   }
  },
  {
   "cell_type": "code",
   "execution_count": 42,
   "outputs": [
    {
     "data": {
      "text/plain": "(Timestamp('2015-12-16 14:24:00+0000', tz='UTC'),\n Timestamp('2200-01-01 11:00:00+0000', tz='UTC'))"
     },
     "execution_count": 42,
     "metadata": {},
     "output_type": "execute_result"
    }
   ],
   "source": [
    "market_fcasts_metaculus.resolve_time.min(), market_fcasts_metaculus.resolve_time.max()"
   ],
   "metadata": {
    "collapsed": false,
    "pycharm": {
     "name": "#%%\n"
    }
   }
  },
  {
   "cell_type": "code",
   "execution_count": 36,
   "outputs": [
    {
     "data": {
      "text/plain": "      question_id                                            q_title  \\\n0               1  Will advanced LIGO announce discovery of gravi...   \n1               2  Will SpaceX successfully land a Falcon 9 rocke...   \n2               4  Will we confirm evidence for megastructures or...   \n3               5  Will Lockheed Martin and Skunkworks announce a...   \n4               6  The FAA to soon open the door to commercial us...   \n...           ...                                                ...   \n5772        11894  What will be the global total fertility rate i...   \n5773        11895  What will be the global total fertility rate i...   \n5774        11896  What will be the global total fertility rate i...   \n5775        11897  What will be the global total fertility rate i...   \n5776        11898  What will be the global total fertility rate i...   \n\n      q_status           open_time           close_time  \\\n0     resolved 2015-10-02 02:34:00  2015-12-15 03:34:00   \n1     resolved 2015-11-15 15:09:00  2016-01-30 20:30:00   \n2     resolved 2015-10-26 15:24:00  2016-02-01 20:00:00   \n3     resolved 2016-01-04 15:27:00  2016-10-18 19:00:00   \n4     resolved 2015-12-06 15:29:00  2016-04-15 14:29:00   \n...        ...                 ...                  ...   \n5772      open 2022-07-18 05:00:00  2101-12-31 06:00:00   \n5773      open 2022-07-18 05:00:00  2026-12-31 06:00:00   \n5774      open 2022-07-18 05:00:00  2031-12-31 06:00:00   \n5775      open 2022-07-18 05:00:00  2076-12-31 06:00:00   \n5776      open 2022-07-18 05:00:00  2101-12-31 06:00:00   \n\n                    resolve_time outcome            time_open  n_opts  \\\n0            2016-02-01 03:34:00       0     74 days, 1:00:00       2   \n1            2016-02-28 07:59:00       0     76 days, 5:21:00       2   \n2            2016-03-01 20:00:00       0     98 days, 4:36:00       2   \n3            2019-04-23 00:34:00       0    288 days, 3:33:00       2   \n4     2016-06-16 17:40:04.092000       0   130 days, 23:00:00       2   \n...                          ...     ...                  ...     ...   \n5772         2102-01-01 06:00:00     NaN  29020 days, 1:00:00       2   \n5773         2027-01-01 06:00:00     NaN   1627 days, 1:00:00       2   \n5774         2032-01-01 06:00:00     NaN   3453 days, 1:00:00       2   \n5775         2077-01-01 06:00:00     NaN  19890 days, 1:00:00       2   \n5776         2102-01-01 06:00:00     NaN  29020 days, 1:00:00       2   \n\n              options  \n0     (0) No, (1) Yes  \n1     (0) No, (1) Yes  \n2     (0) No, (1) Yes  \n3     (0) No, (1) Yes  \n4     (0) No, (1) Yes  \n...               ...  \n5772  (0) No, (1) Yes  \n5773  (0) No, (1) Yes  \n5774  (0) No, (1) Yes  \n5775  (0) No, (1) Yes  \n5776  (0) No, (1) Yes  \n\n[5777 rows x 10 columns]",
      "text/html": "<div>\n<style scoped>\n    .dataframe tbody tr th:only-of-type {\n        vertical-align: middle;\n    }\n\n    .dataframe tbody tr th {\n        vertical-align: top;\n    }\n\n    .dataframe thead th {\n        text-align: right;\n    }\n</style>\n<table border=\"1\" class=\"dataframe\">\n  <thead>\n    <tr style=\"text-align: right;\">\n      <th></th>\n      <th>question_id</th>\n      <th>q_title</th>\n      <th>q_status</th>\n      <th>open_time</th>\n      <th>close_time</th>\n      <th>resolve_time</th>\n      <th>outcome</th>\n      <th>time_open</th>\n      <th>n_opts</th>\n      <th>options</th>\n    </tr>\n  </thead>\n  <tbody>\n    <tr>\n      <th>0</th>\n      <td>1</td>\n      <td>Will advanced LIGO announce discovery of gravi...</td>\n      <td>resolved</td>\n      <td>2015-10-02 02:34:00</td>\n      <td>2015-12-15 03:34:00</td>\n      <td>2016-02-01 03:34:00</td>\n      <td>0</td>\n      <td>74 days, 1:00:00</td>\n      <td>2</td>\n      <td>(0) No, (1) Yes</td>\n    </tr>\n    <tr>\n      <th>1</th>\n      <td>2</td>\n      <td>Will SpaceX successfully land a Falcon 9 rocke...</td>\n      <td>resolved</td>\n      <td>2015-11-15 15:09:00</td>\n      <td>2016-01-30 20:30:00</td>\n      <td>2016-02-28 07:59:00</td>\n      <td>0</td>\n      <td>76 days, 5:21:00</td>\n      <td>2</td>\n      <td>(0) No, (1) Yes</td>\n    </tr>\n    <tr>\n      <th>2</th>\n      <td>4</td>\n      <td>Will we confirm evidence for megastructures or...</td>\n      <td>resolved</td>\n      <td>2015-10-26 15:24:00</td>\n      <td>2016-02-01 20:00:00</td>\n      <td>2016-03-01 20:00:00</td>\n      <td>0</td>\n      <td>98 days, 4:36:00</td>\n      <td>2</td>\n      <td>(0) No, (1) Yes</td>\n    </tr>\n    <tr>\n      <th>3</th>\n      <td>5</td>\n      <td>Will Lockheed Martin and Skunkworks announce a...</td>\n      <td>resolved</td>\n      <td>2016-01-04 15:27:00</td>\n      <td>2016-10-18 19:00:00</td>\n      <td>2019-04-23 00:34:00</td>\n      <td>0</td>\n      <td>288 days, 3:33:00</td>\n      <td>2</td>\n      <td>(0) No, (1) Yes</td>\n    </tr>\n    <tr>\n      <th>4</th>\n      <td>6</td>\n      <td>The FAA to soon open the door to commercial us...</td>\n      <td>resolved</td>\n      <td>2015-12-06 15:29:00</td>\n      <td>2016-04-15 14:29:00</td>\n      <td>2016-06-16 17:40:04.092000</td>\n      <td>0</td>\n      <td>130 days, 23:00:00</td>\n      <td>2</td>\n      <td>(0) No, (1) Yes</td>\n    </tr>\n    <tr>\n      <th>...</th>\n      <td>...</td>\n      <td>...</td>\n      <td>...</td>\n      <td>...</td>\n      <td>...</td>\n      <td>...</td>\n      <td>...</td>\n      <td>...</td>\n      <td>...</td>\n      <td>...</td>\n    </tr>\n    <tr>\n      <th>5772</th>\n      <td>11894</td>\n      <td>What will be the global total fertility rate i...</td>\n      <td>open</td>\n      <td>2022-07-18 05:00:00</td>\n      <td>2101-12-31 06:00:00</td>\n      <td>2102-01-01 06:00:00</td>\n      <td>NaN</td>\n      <td>29020 days, 1:00:00</td>\n      <td>2</td>\n      <td>(0) No, (1) Yes</td>\n    </tr>\n    <tr>\n      <th>5773</th>\n      <td>11895</td>\n      <td>What will be the global total fertility rate i...</td>\n      <td>open</td>\n      <td>2022-07-18 05:00:00</td>\n      <td>2026-12-31 06:00:00</td>\n      <td>2027-01-01 06:00:00</td>\n      <td>NaN</td>\n      <td>1627 days, 1:00:00</td>\n      <td>2</td>\n      <td>(0) No, (1) Yes</td>\n    </tr>\n    <tr>\n      <th>5774</th>\n      <td>11896</td>\n      <td>What will be the global total fertility rate i...</td>\n      <td>open</td>\n      <td>2022-07-18 05:00:00</td>\n      <td>2031-12-31 06:00:00</td>\n      <td>2032-01-01 06:00:00</td>\n      <td>NaN</td>\n      <td>3453 days, 1:00:00</td>\n      <td>2</td>\n      <td>(0) No, (1) Yes</td>\n    </tr>\n    <tr>\n      <th>5775</th>\n      <td>11897</td>\n      <td>What will be the global total fertility rate i...</td>\n      <td>open</td>\n      <td>2022-07-18 05:00:00</td>\n      <td>2076-12-31 06:00:00</td>\n      <td>2077-01-01 06:00:00</td>\n      <td>NaN</td>\n      <td>19890 days, 1:00:00</td>\n      <td>2</td>\n      <td>(0) No, (1) Yes</td>\n    </tr>\n    <tr>\n      <th>5776</th>\n      <td>11898</td>\n      <td>What will be the global total fertility rate i...</td>\n      <td>open</td>\n      <td>2022-07-18 05:00:00</td>\n      <td>2101-12-31 06:00:00</td>\n      <td>2102-01-01 06:00:00</td>\n      <td>NaN</td>\n      <td>29020 days, 1:00:00</td>\n      <td>2</td>\n      <td>(0) No, (1) Yes</td>\n    </tr>\n  </tbody>\n</table>\n<p>5777 rows × 10 columns</p>\n</div>"
     },
     "execution_count": 36,
     "metadata": {},
     "output_type": "execute_result"
    }
   ],
   "source": [
    "questions_metaculus = metaculus.load_questions(data_dir=DATA_DIR)\n",
    "questions_metaculus"
   ],
   "metadata": {
    "collapsed": false,
    "pycharm": {
     "name": "#%%\n"
    }
   }
  },
  {
   "cell_type": "markdown",
   "source": [
    "## PredictionBook"
   ],
   "metadata": {
    "collapsed": false,
    "pycharm": {
     "name": "#%% md\n"
    }
   }
  },
  {
   "cell_type": "code",
   "execution_count": 27,
   "outputs": [
    {
     "data": {
      "text/plain": "       question_id          user_id  team_id  probability  answer_option  \\\n0                1             Matt      0.0         0.80              1   \n1                2            Frank      0.0         0.60              1   \n2                3          Natalie      0.0         0.80              1   \n3                4          Natalie      0.0         0.80              1   \n4                5             Adam      0.0         0.70              1   \n...            ...              ...      ...          ...            ...   \n63587       208765         oakbound      0.0         0.50              1   \n63588       208769       skcdsjfdfs      0.0         0.80              1   \n63589       208775  Tapetum-Lucidum      0.0         0.09              1   \n63590       208782         oakbound      0.0         0.10              1   \n63591       208782    chemotaxis101      0.0         0.15              1   \n\n                      timestamp  outcome                 open_time  \\\n0     2008-06-20 03:46:16+00:00      1.0 2008-06-20 03:46:16+00:00   \n1     2008-06-20 04:37:13+00:00      0.0 2008-06-20 04:37:13+00:00   \n2     2008-06-20 04:38:35+00:00      0.0 2008-06-20 04:38:35+00:00   \n3     2008-06-20 04:40:06+00:00      0.0 2008-06-20 04:40:06+00:00   \n4     2008-06-20 05:08:31+00:00      1.0 2008-06-20 05:08:31+00:00   \n...                         ...      ...                       ...   \n63587 2022-08-08 10:26:14+00:00      NaN 2022-08-08 10:26:14+00:00   \n63588 2022-08-09 01:30:58+00:00      NaN 2022-08-09 01:30:58+00:00   \n63589 2022-08-10 07:07:12+00:00      NaN 2022-08-10 07:07:12+00:00   \n63590 2022-08-11 14:30:49+00:00      NaN 2022-08-11 14:30:49+00:00   \n63591 2022-08-11 16:21:58+00:00      NaN 2022-08-11 14:30:49+00:00   \n\n                     close_time              resolve_time           time_open  \\\n0     2008-06-20 10:00:00+00:00 2008-08-14 02:28:40+00:00     0 days 06:13:44   \n1     2008-06-23 10:00:00+00:00 2008-08-01 09:18:01+00:00     3 days 05:22:47   \n2     2008-06-30 10:00:00+00:00 2008-08-01 09:18:01+00:00    10 days 05:21:25   \n3     2008-06-19 10:00:00+00:00 2008-08-01 09:18:01+00:00   -1 days +05:19:54   \n4     2008-06-20 04:08:31+00:00 2008-08-01 09:18:01+00:00   -1 days +23:00:00   \n...                         ...                       ...                 ...   \n63587 2023-06-01 10:00:00+00:00                       NaT   296 days 23:33:46   \n63588 2022-08-10 10:00:00+00:00                       NaT     1 days 08:29:02   \n63589 2025-01-01 11:00:00+00:00                       NaT   875 days 03:52:48   \n63590 2031-01-01 11:00:00+00:00                       NaT  3064 days 20:29:11   \n63591 2031-01-01 11:00:00+00:00                       NaT  3064 days 20:29:11   \n\n       n_opts                                            options  q_status  \\\n0         2.0  (0) No, (1) Yes, (-1) Ambiguous, (None) Still ...  resolved   \n1         2.0  (0) No, (1) Yes, (-1) Ambiguous, (None) Still ...  resolved   \n2         2.0  (0) No, (1) Yes, (-1) Ambiguous, (None) Still ...  resolved   \n3         2.0  (0) No, (1) Yes, (-1) Ambiguous, (None) Still ...  resolved   \n4         2.0  (0) No, (1) Yes, (-1) Ambiguous, (None) Still ...  resolved   \n...       ...                                                ...       ...   \n63587     2.0  (0) No, (1) Yes, (-1) Ambiguous, (None) Still ...      open   \n63588     2.0  (0) No, (1) Yes, (-1) Ambiguous, (None) Still ...      open   \n63589     2.0  (0) No, (1) Yes, (-1) Ambiguous, (None) Still ...      open   \n63590     2.0  (0) No, (1) Yes, (-1) Ambiguous, (None) Still ...      open   \n63591     2.0  (0) No, (1) Yes, (-1) Ambiguous, (None) Still ...      open   \n\n       q_type  \n0         0.0  \n1         0.0  \n2         0.0  \n3         0.0  \n4         0.0  \n...       ...  \n63587     0.0  \n63588     0.0  \n63589     0.0  \n63590     0.0  \n63591     0.0  \n\n[63592 rows x 15 columns]",
      "text/html": "<div>\n<style scoped>\n    .dataframe tbody tr th:only-of-type {\n        vertical-align: middle;\n    }\n\n    .dataframe tbody tr th {\n        vertical-align: top;\n    }\n\n    .dataframe thead th {\n        text-align: right;\n    }\n</style>\n<table border=\"1\" class=\"dataframe\">\n  <thead>\n    <tr style=\"text-align: right;\">\n      <th></th>\n      <th>question_id</th>\n      <th>user_id</th>\n      <th>team_id</th>\n      <th>probability</th>\n      <th>answer_option</th>\n      <th>timestamp</th>\n      <th>outcome</th>\n      <th>open_time</th>\n      <th>close_time</th>\n      <th>resolve_time</th>\n      <th>time_open</th>\n      <th>n_opts</th>\n      <th>options</th>\n      <th>q_status</th>\n      <th>q_type</th>\n    </tr>\n  </thead>\n  <tbody>\n    <tr>\n      <th>0</th>\n      <td>1</td>\n      <td>Matt</td>\n      <td>0.0</td>\n      <td>0.80</td>\n      <td>1</td>\n      <td>2008-06-20 03:46:16+00:00</td>\n      <td>1.0</td>\n      <td>2008-06-20 03:46:16+00:00</td>\n      <td>2008-06-20 10:00:00+00:00</td>\n      <td>2008-08-14 02:28:40+00:00</td>\n      <td>0 days 06:13:44</td>\n      <td>2.0</td>\n      <td>(0) No, (1) Yes, (-1) Ambiguous, (None) Still ...</td>\n      <td>resolved</td>\n      <td>0.0</td>\n    </tr>\n    <tr>\n      <th>1</th>\n      <td>2</td>\n      <td>Frank</td>\n      <td>0.0</td>\n      <td>0.60</td>\n      <td>1</td>\n      <td>2008-06-20 04:37:13+00:00</td>\n      <td>0.0</td>\n      <td>2008-06-20 04:37:13+00:00</td>\n      <td>2008-06-23 10:00:00+00:00</td>\n      <td>2008-08-01 09:18:01+00:00</td>\n      <td>3 days 05:22:47</td>\n      <td>2.0</td>\n      <td>(0) No, (1) Yes, (-1) Ambiguous, (None) Still ...</td>\n      <td>resolved</td>\n      <td>0.0</td>\n    </tr>\n    <tr>\n      <th>2</th>\n      <td>3</td>\n      <td>Natalie</td>\n      <td>0.0</td>\n      <td>0.80</td>\n      <td>1</td>\n      <td>2008-06-20 04:38:35+00:00</td>\n      <td>0.0</td>\n      <td>2008-06-20 04:38:35+00:00</td>\n      <td>2008-06-30 10:00:00+00:00</td>\n      <td>2008-08-01 09:18:01+00:00</td>\n      <td>10 days 05:21:25</td>\n      <td>2.0</td>\n      <td>(0) No, (1) Yes, (-1) Ambiguous, (None) Still ...</td>\n      <td>resolved</td>\n      <td>0.0</td>\n    </tr>\n    <tr>\n      <th>3</th>\n      <td>4</td>\n      <td>Natalie</td>\n      <td>0.0</td>\n      <td>0.80</td>\n      <td>1</td>\n      <td>2008-06-20 04:40:06+00:00</td>\n      <td>0.0</td>\n      <td>2008-06-20 04:40:06+00:00</td>\n      <td>2008-06-19 10:00:00+00:00</td>\n      <td>2008-08-01 09:18:01+00:00</td>\n      <td>-1 days +05:19:54</td>\n      <td>2.0</td>\n      <td>(0) No, (1) Yes, (-1) Ambiguous, (None) Still ...</td>\n      <td>resolved</td>\n      <td>0.0</td>\n    </tr>\n    <tr>\n      <th>4</th>\n      <td>5</td>\n      <td>Adam</td>\n      <td>0.0</td>\n      <td>0.70</td>\n      <td>1</td>\n      <td>2008-06-20 05:08:31+00:00</td>\n      <td>1.0</td>\n      <td>2008-06-20 05:08:31+00:00</td>\n      <td>2008-06-20 04:08:31+00:00</td>\n      <td>2008-08-01 09:18:01+00:00</td>\n      <td>-1 days +23:00:00</td>\n      <td>2.0</td>\n      <td>(0) No, (1) Yes, (-1) Ambiguous, (None) Still ...</td>\n      <td>resolved</td>\n      <td>0.0</td>\n    </tr>\n    <tr>\n      <th>...</th>\n      <td>...</td>\n      <td>...</td>\n      <td>...</td>\n      <td>...</td>\n      <td>...</td>\n      <td>...</td>\n      <td>...</td>\n      <td>...</td>\n      <td>...</td>\n      <td>...</td>\n      <td>...</td>\n      <td>...</td>\n      <td>...</td>\n      <td>...</td>\n      <td>...</td>\n    </tr>\n    <tr>\n      <th>63587</th>\n      <td>208765</td>\n      <td>oakbound</td>\n      <td>0.0</td>\n      <td>0.50</td>\n      <td>1</td>\n      <td>2022-08-08 10:26:14+00:00</td>\n      <td>NaN</td>\n      <td>2022-08-08 10:26:14+00:00</td>\n      <td>2023-06-01 10:00:00+00:00</td>\n      <td>NaT</td>\n      <td>296 days 23:33:46</td>\n      <td>2.0</td>\n      <td>(0) No, (1) Yes, (-1) Ambiguous, (None) Still ...</td>\n      <td>open</td>\n      <td>0.0</td>\n    </tr>\n    <tr>\n      <th>63588</th>\n      <td>208769</td>\n      <td>skcdsjfdfs</td>\n      <td>0.0</td>\n      <td>0.80</td>\n      <td>1</td>\n      <td>2022-08-09 01:30:58+00:00</td>\n      <td>NaN</td>\n      <td>2022-08-09 01:30:58+00:00</td>\n      <td>2022-08-10 10:00:00+00:00</td>\n      <td>NaT</td>\n      <td>1 days 08:29:02</td>\n      <td>2.0</td>\n      <td>(0) No, (1) Yes, (-1) Ambiguous, (None) Still ...</td>\n      <td>open</td>\n      <td>0.0</td>\n    </tr>\n    <tr>\n      <th>63589</th>\n      <td>208775</td>\n      <td>Tapetum-Lucidum</td>\n      <td>0.0</td>\n      <td>0.09</td>\n      <td>1</td>\n      <td>2022-08-10 07:07:12+00:00</td>\n      <td>NaN</td>\n      <td>2022-08-10 07:07:12+00:00</td>\n      <td>2025-01-01 11:00:00+00:00</td>\n      <td>NaT</td>\n      <td>875 days 03:52:48</td>\n      <td>2.0</td>\n      <td>(0) No, (1) Yes, (-1) Ambiguous, (None) Still ...</td>\n      <td>open</td>\n      <td>0.0</td>\n    </tr>\n    <tr>\n      <th>63590</th>\n      <td>208782</td>\n      <td>oakbound</td>\n      <td>0.0</td>\n      <td>0.10</td>\n      <td>1</td>\n      <td>2022-08-11 14:30:49+00:00</td>\n      <td>NaN</td>\n      <td>2022-08-11 14:30:49+00:00</td>\n      <td>2031-01-01 11:00:00+00:00</td>\n      <td>NaT</td>\n      <td>3064 days 20:29:11</td>\n      <td>2.0</td>\n      <td>(0) No, (1) Yes, (-1) Ambiguous, (None) Still ...</td>\n      <td>open</td>\n      <td>0.0</td>\n    </tr>\n    <tr>\n      <th>63591</th>\n      <td>208782</td>\n      <td>chemotaxis101</td>\n      <td>0.0</td>\n      <td>0.15</td>\n      <td>1</td>\n      <td>2022-08-11 16:21:58+00:00</td>\n      <td>NaN</td>\n      <td>2022-08-11 14:30:49+00:00</td>\n      <td>2031-01-01 11:00:00+00:00</td>\n      <td>NaT</td>\n      <td>3064 days 20:29:11</td>\n      <td>2.0</td>\n      <td>(0) No, (1) Yes, (-1) Ambiguous, (None) Still ...</td>\n      <td>open</td>\n      <td>0.0</td>\n    </tr>\n  </tbody>\n</table>\n<p>63592 rows × 15 columns</p>\n</div>"
     },
     "execution_count": 27,
     "metadata": {},
     "output_type": "execute_result"
    }
   ],
   "source": [
    "from iqisa import predictionbook\n",
    "\n",
    "market_fcasts_predictionbook = predictionbook.load(data_dir=DATA_DIR)\n",
    "market_fcasts_predictionbook"
   ],
   "metadata": {
    "collapsed": false,
    "pycharm": {
     "name": "#%%\n"
    }
   }
  },
  {
   "cell_type": "code",
   "execution_count": 44,
   "outputs": [
    {
     "data": {
      "text/plain": "(Timestamp('2008-06-20 03:46:16+0000', tz='UTC'),\n Timestamp('2022-08-11 16:21:58+0000', tz='UTC'))"
     },
     "execution_count": 44,
     "metadata": {},
     "output_type": "execute_result"
    }
   ],
   "source": [
    "market_fcasts_predictionbook.timestamp.min(), market_fcasts_predictionbook.timestamp.max()"
   ],
   "metadata": {
    "collapsed": false,
    "pycharm": {
     "name": "#%%\n"
    }
   }
  },
  {
   "cell_type": "code",
   "execution_count": 40,
   "outputs": [
    {
     "data": {
      "text/plain": "       question_id                                            q_title  \\\n0                1  PredictionBook will have an Alpha server runni...   \n1                2                         ASX will finish above 5440   \n2                3                 Sype video will not work next time   \n3                4  The epiode “11” of scrubs Series 7 we have jus...   \n4                5            We will have validation of result dates   \n...            ...                                                ...   \n18665       208764  [The price per square meter for apartments in ...   \n18666       208765  [The price per square meter for apartments in ...   \n18667       208769                       Gas prices go up in one week   \n18668       208775  Donald Trump is indicted as a result of the do...   \n18669       208782                       A human has set foot on Mars   \n\n       q_status                  open_time                 close_time  \\\n0      resolved  2008-06-20 03:46:16+00:00  2008-06-20 10:00:00+00:00   \n1      resolved  2008-06-20 04:37:13+00:00  2008-06-23 10:00:00+00:00   \n2      resolved  2008-06-20 04:38:35+00:00  2008-06-30 10:00:00+00:00   \n3      resolved  2008-06-20 04:40:06+00:00  2008-06-19 10:00:00+00:00   \n4      resolved  2008-06-20 05:08:31+00:00  2008-06-20 04:08:31+00:00   \n...         ...                        ...                        ...   \n18665      open  2022-08-08 10:26:14+00:00  2023-06-01 10:00:00+00:00   \n18666      open  2022-08-08 10:26:14+00:00  2023-06-01 10:00:00+00:00   \n18667      open  2022-08-09 01:30:58+00:00  2022-08-10 10:00:00+00:00   \n18668      open  2022-08-10 07:07:12+00:00  2025-01-01 11:00:00+00:00   \n18669      open  2022-08-11 14:30:49+00:00  2031-01-01 11:00:00+00:00   \n\n                    resolve_time  outcome           time_open  n_opts  \\\n0      2008-08-14 02:28:40+00:00      1.0     0 days 06:13:44       2   \n1      2008-08-01 09:18:01+00:00      0.0     3 days 05:22:47       2   \n2      2008-08-01 09:18:01+00:00      0.0    10 days 05:21:25       2   \n3      2008-08-01 09:18:01+00:00      0.0   -1 days +05:19:54       2   \n4      2008-08-01 09:18:01+00:00      1.0   -1 days +23:00:00       2   \n...                          ...      ...                 ...     ...   \n18665                        NaN      NaN   296 days 23:33:46       2   \n18666                        NaN      NaN   296 days 23:33:46       2   \n18667                        NaN      NaN     1 days 08:29:02       2   \n18668                        NaN      NaN   875 days 03:52:48       2   \n18669                        NaN      NaN  3064 days 20:29:11       2   \n\n                                                 options  \n0      (0) No, (1) Yes, (-1) Ambiguous, (None) Still ...  \n1      (0) No, (1) Yes, (-1) Ambiguous, (None) Still ...  \n2      (0) No, (1) Yes, (-1) Ambiguous, (None) Still ...  \n3      (0) No, (1) Yes, (-1) Ambiguous, (None) Still ...  \n4      (0) No, (1) Yes, (-1) Ambiguous, (None) Still ...  \n...                                                  ...  \n18665  (0) No, (1) Yes, (-1) Ambiguous, (None) Still ...  \n18666  (0) No, (1) Yes, (-1) Ambiguous, (None) Still ...  \n18667  (0) No, (1) Yes, (-1) Ambiguous, (None) Still ...  \n18668  (0) No, (1) Yes, (-1) Ambiguous, (None) Still ...  \n18669  (0) No, (1) Yes, (-1) Ambiguous, (None) Still ...  \n\n[18670 rows x 10 columns]",
      "text/html": "<div>\n<style scoped>\n    .dataframe tbody tr th:only-of-type {\n        vertical-align: middle;\n    }\n\n    .dataframe tbody tr th {\n        vertical-align: top;\n    }\n\n    .dataframe thead th {\n        text-align: right;\n    }\n</style>\n<table border=\"1\" class=\"dataframe\">\n  <thead>\n    <tr style=\"text-align: right;\">\n      <th></th>\n      <th>question_id</th>\n      <th>q_title</th>\n      <th>q_status</th>\n      <th>open_time</th>\n      <th>close_time</th>\n      <th>resolve_time</th>\n      <th>outcome</th>\n      <th>time_open</th>\n      <th>n_opts</th>\n      <th>options</th>\n    </tr>\n  </thead>\n  <tbody>\n    <tr>\n      <th>0</th>\n      <td>1</td>\n      <td>PredictionBook will have an Alpha server runni...</td>\n      <td>resolved</td>\n      <td>2008-06-20 03:46:16+00:00</td>\n      <td>2008-06-20 10:00:00+00:00</td>\n      <td>2008-08-14 02:28:40+00:00</td>\n      <td>1.0</td>\n      <td>0 days 06:13:44</td>\n      <td>2</td>\n      <td>(0) No, (1) Yes, (-1) Ambiguous, (None) Still ...</td>\n    </tr>\n    <tr>\n      <th>1</th>\n      <td>2</td>\n      <td>ASX will finish above 5440</td>\n      <td>resolved</td>\n      <td>2008-06-20 04:37:13+00:00</td>\n      <td>2008-06-23 10:00:00+00:00</td>\n      <td>2008-08-01 09:18:01+00:00</td>\n      <td>0.0</td>\n      <td>3 days 05:22:47</td>\n      <td>2</td>\n      <td>(0) No, (1) Yes, (-1) Ambiguous, (None) Still ...</td>\n    </tr>\n    <tr>\n      <th>2</th>\n      <td>3</td>\n      <td>Sype video will not work next time</td>\n      <td>resolved</td>\n      <td>2008-06-20 04:38:35+00:00</td>\n      <td>2008-06-30 10:00:00+00:00</td>\n      <td>2008-08-01 09:18:01+00:00</td>\n      <td>0.0</td>\n      <td>10 days 05:21:25</td>\n      <td>2</td>\n      <td>(0) No, (1) Yes, (-1) Ambiguous, (None) Still ...</td>\n    </tr>\n    <tr>\n      <th>3</th>\n      <td>4</td>\n      <td>The epiode “11” of scrubs Series 7 we have jus...</td>\n      <td>resolved</td>\n      <td>2008-06-20 04:40:06+00:00</td>\n      <td>2008-06-19 10:00:00+00:00</td>\n      <td>2008-08-01 09:18:01+00:00</td>\n      <td>0.0</td>\n      <td>-1 days +05:19:54</td>\n      <td>2</td>\n      <td>(0) No, (1) Yes, (-1) Ambiguous, (None) Still ...</td>\n    </tr>\n    <tr>\n      <th>4</th>\n      <td>5</td>\n      <td>We will have validation of result dates</td>\n      <td>resolved</td>\n      <td>2008-06-20 05:08:31+00:00</td>\n      <td>2008-06-20 04:08:31+00:00</td>\n      <td>2008-08-01 09:18:01+00:00</td>\n      <td>1.0</td>\n      <td>-1 days +23:00:00</td>\n      <td>2</td>\n      <td>(0) No, (1) Yes, (-1) Ambiguous, (None) Still ...</td>\n    </tr>\n    <tr>\n      <th>...</th>\n      <td>...</td>\n      <td>...</td>\n      <td>...</td>\n      <td>...</td>\n      <td>...</td>\n      <td>...</td>\n      <td>...</td>\n      <td>...</td>\n      <td>...</td>\n      <td>...</td>\n    </tr>\n    <tr>\n      <th>18665</th>\n      <td>208764</td>\n      <td>[The price per square meter for apartments in ...</td>\n      <td>open</td>\n      <td>2022-08-08 10:26:14+00:00</td>\n      <td>2023-06-01 10:00:00+00:00</td>\n      <td>NaN</td>\n      <td>NaN</td>\n      <td>296 days 23:33:46</td>\n      <td>2</td>\n      <td>(0) No, (1) Yes, (-1) Ambiguous, (None) Still ...</td>\n    </tr>\n    <tr>\n      <th>18666</th>\n      <td>208765</td>\n      <td>[The price per square meter for apartments in ...</td>\n      <td>open</td>\n      <td>2022-08-08 10:26:14+00:00</td>\n      <td>2023-06-01 10:00:00+00:00</td>\n      <td>NaN</td>\n      <td>NaN</td>\n      <td>296 days 23:33:46</td>\n      <td>2</td>\n      <td>(0) No, (1) Yes, (-1) Ambiguous, (None) Still ...</td>\n    </tr>\n    <tr>\n      <th>18667</th>\n      <td>208769</td>\n      <td>Gas prices go up in one week</td>\n      <td>open</td>\n      <td>2022-08-09 01:30:58+00:00</td>\n      <td>2022-08-10 10:00:00+00:00</td>\n      <td>NaN</td>\n      <td>NaN</td>\n      <td>1 days 08:29:02</td>\n      <td>2</td>\n      <td>(0) No, (1) Yes, (-1) Ambiguous, (None) Still ...</td>\n    </tr>\n    <tr>\n      <th>18668</th>\n      <td>208775</td>\n      <td>Donald Trump is indicted as a result of the do...</td>\n      <td>open</td>\n      <td>2022-08-10 07:07:12+00:00</td>\n      <td>2025-01-01 11:00:00+00:00</td>\n      <td>NaN</td>\n      <td>NaN</td>\n      <td>875 days 03:52:48</td>\n      <td>2</td>\n      <td>(0) No, (1) Yes, (-1) Ambiguous, (None) Still ...</td>\n    </tr>\n    <tr>\n      <th>18669</th>\n      <td>208782</td>\n      <td>A human has set foot on Mars</td>\n      <td>open</td>\n      <td>2022-08-11 14:30:49+00:00</td>\n      <td>2031-01-01 11:00:00+00:00</td>\n      <td>NaN</td>\n      <td>NaN</td>\n      <td>3064 days 20:29:11</td>\n      <td>2</td>\n      <td>(0) No, (1) Yes, (-1) Ambiguous, (None) Still ...</td>\n    </tr>\n  </tbody>\n</table>\n<p>18670 rows × 10 columns</p>\n</div>"
     },
     "execution_count": 40,
     "metadata": {},
     "output_type": "execute_result"
    }
   ],
   "source": [
    "questions_predictionbook = predictionbook.load_questions(data_dir=DATA_DIR)\n",
    "questions_predictionbook"
   ],
   "metadata": {
    "collapsed": false,
    "pycharm": {
     "name": "#%%\n"
    }
   }
  },
  {
   "cell_type": "code",
   "execution_count": null,
   "outputs": [],
   "source": [],
   "metadata": {
    "collapsed": false,
    "pycharm": {
     "name": "#%%\n"
    }
   }
  }
 ],
 "metadata": {
  "kernelspec": {
   "display_name": "Python 3",
   "language": "python",
   "name": "python3"
  },
  "language_info": {
   "codemirror_mode": {
    "name": "ipython",
    "version": 2
   },
   "file_extension": ".py",
   "mimetype": "text/x-python",
   "name": "python",
   "nbconvert_exporter": "python",
   "pygments_lexer": "ipython2",
   "version": "2.7.6"
  }
 },
 "nbformat": 4,
 "nbformat_minor": 0
}