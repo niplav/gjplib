{
 "cells": [
  {
   "cell_type": "code",
   "execution_count": 1,
   "metadata": {},
   "outputs": [
    {
     "ename": "ModuleNotFoundError",
     "evalue": "No module named 'gjp'",
     "output_type": "error",
     "traceback": [
      "\u001b[0;31m---------------------------------------------------------------------------\u001b[0m",
      "\u001b[0;31mModuleNotFoundError\u001b[0m                       Traceback (most recent call last)",
      "Cell \u001b[0;32mIn[1], line 1\u001b[0m\n\u001b[0;32m----> 1\u001b[0m \u001b[38;5;28;01mimport\u001b[39;00m \u001b[38;5;21;01mgjp\u001b[39;00m\n\u001b[1;32m      2\u001b[0m \u001b[38;5;28;01mimport\u001b[39;00m \u001b[38;5;21;01mstatistics\u001b[39;00m\n\u001b[1;32m      3\u001b[0m \u001b[38;5;28;01mimport\u001b[39;00m \u001b[38;5;21;01mnumpy\u001b[39;00m \u001b[38;5;28;01mas\u001b[39;00m \u001b[38;5;21;01mnp\u001b[39;00m\n",
      "\u001b[0;31mModuleNotFoundError\u001b[0m: No module named 'gjp'"
     ]
    }
   ],
   "source": [
    "import gjp\n",
    "import statistics\n",
    "import numpy as np\n",
    "import pandas as pd\n",
    "import iqisa.iqisa as iqs"
   ]
  },
  {
   "cell_type": "code",
   "execution_count": 2,
   "metadata": {
    "scrolled": true
   },
   "outputs": [
    {
     "name": "stderr",
     "output_type": "stream",
     "text": [
      "/home/niplav/proj/iqisa/gjp.py:326: DtypeWarning: Columns (8) have mixed types.Specify dtype option on import or set low_memory=False.\n",
      "  forecasts=load_complete_markets(files)\n",
      "/usr/lib/python3/dist-packages/dateutil/parser/_parser.py:1199: UnknownTimezoneWarning: tzname EDT identified but not understood.  Pass `tzinfos` argument in order to correctly return a timezone-aware datetime.  In a future version, this will raise an exception.\n",
      "  warnings.warn(\"tzname {tzname} identified but not understood.  \"\n",
      "/usr/lib/python3/dist-packages/dateutil/parser/_parser.py:1199: UnknownTimezoneWarning: tzname EST identified but not understood.  Pass `tzinfos` argument in order to correctly return a timezone-aware datetime.  In a future version, this will raise an exception.\n",
      "  warnings.warn(\"tzname {tzname} identified but not understood.  \"\n",
      "/home/niplav/proj/iqisa/gjp.py:326: DtypeWarning: Columns (6,7,9,21) have mixed types.Specify dtype option on import or set low_memory=False.\n",
      "  forecasts=load_complete_markets(files)\n"
     ]
    }
   ],
   "source": [
    "market_fcasts=gjp.load_markets()\n",
    "survey_fcasts=gjp.load_surveys()\n",
    "gjp_questions=gjp.load_questions()"
   ]
  },
  {
   "cell_type": "code",
   "execution_count": 3,
   "metadata": {},
   "outputs": [
    {
     "name": "stdout",
     "output_type": "stream",
     "text": [
      "(793501, 15)\n",
      "(3143460, 15)\n",
      "(617, 14)\n"
     ]
    }
   ],
   "source": [
    "print(market_fcasts.shape)\n",
    "print(survey_fcasts.shape)\n",
    "print(gjp_questions.shape)"
   ]
  },
  {
   "cell_type": "code",
   "execution_count": 4,
   "metadata": {},
   "outputs": [],
   "source": [
    "def brier_score(probabilities, outcomes, *args):\n",
    "        return np.mean((probabilities-outcomes)**2)\n",
    "\n",
    "trader_scores=iqs.score(market_fcasts, brier_score, on=['user_id'])\n",
    "filtered_trader_scores=iqs.score(market_fcasts.groupby(['user_id']).filter(lambda x: len(x)>100), brier_score, on=['user_id'])\n",
    "highly_filtered_trader_scores=iqs.score(market_fcasts.groupby(['user_id']).filter(lambda x: len(x)>1000), brier_score, on=['user_id'])"
   ]
  },
  {
   "cell_type": "code",
   "execution_count": 5,
   "metadata": {
    "scrolled": true
   },
   "outputs": [
    {
     "name": "stdout",
     "output_type": "stream",
     "text": [
      "             score\n",
      "count  2408.000000\n",
      "mean      0.159125\n",
      "std       0.079836\n",
      "min       0.000100\n",
      "25%       0.117289\n",
      "50%       0.151209\n",
      "75%       0.186772\n",
      "max       0.792100\n",
      "            score\n",
      "count  967.000000\n",
      "mean     0.159525\n",
      "std      0.052282\n",
      "min      0.024330\n",
      "25%      0.129488\n",
      "50%      0.155539\n",
      "75%      0.181879\n",
      "max      0.685084\n",
      "            score\n",
      "count  138.000000\n",
      "mean     0.151327\n",
      "std      0.037286\n",
      "min      0.044546\n",
      "25%      0.129421\n",
      "50%      0.150234\n",
      "75%      0.175377\n",
      "max      0.248004\n"
     ]
    }
   ],
   "source": [
    "print(trader_scores.describe())\n",
    "print(filtered_trader_scores.describe())\n",
    "print(highly_filtered_trader_scores.describe())"
   ]
  },
  {
   "cell_type": "code",
   "execution_count": 13,
   "metadata": {},
   "outputs": [
    {
     "data": {
      "image/png": "[encoded data removed]",
      "text/plain": [
       "<Figure size 1152x432 with 1 Axes>"
      ]
     },
     "metadata": {
      "needs_background": "light"
     },
     "output_type": "display_data"
    }
   ],
   "source": [
    "import matplotlib.pyplot as plt\n",
    "%matplotlib inline\n",
    "\n",
    "plt.figure(figsize=(16,6))\n",
    "plt.hist(trader_scores['score'], bins=100, density=True, alpha=0.5, align='mid', color='blue', label='all traders')\n",
    "plt.hist(filtered_trader_scores['score'], bins=100, density=True, alpha=0.5, align='mid', color='red', label='traders with ≥100 trades')\n",
    "plt.hist(highly_filtered_trader_scores['score'], bins=50, density=True, alpha=0.5, align='mid', color='green', label='traders with ≥1000 trades')\n",
    "plt.legend()\n",
    "plt.grid()"
   ]
  },
  {
   "cell_type": "markdown",
   "metadata": {},
   "source": [
    "### Different Analyses\n",
    "\n",
    "When wanting to know how well groups of forecasters perform, we can perform different kinds of analyses, with different kinds of aggregated parts of the dataset.\n",
    "\n",
    "1. We score forecasters, and sort them by their score.\n",
    "2. We randomly choose groups of forecasters of size $2 \\le i \\le n$ (for some maximal $n$) and then compute the score of those groups. On average, what percentile of forecaster performance does a group of size $i$ find itself in?\n",
    "    1. We also aggregate the forecasts from those groups in a smarter way.\n",
    "3. We score teams of forecasters and find out what percentile of forecaster performance each team finds themselves in.\n",
    "    1. We also aggregate the forecasts from those teams in a smarter way."
   ]
  },
  {
   "cell_type": "code",
   "execution_count": 14,
   "metadata": {},
   "outputs": [],
   "source": [
    "max_group_size=100\n",
    "sample_size=100\n",
    "groups=[np.random.choice(np.unique(market_fcasts['user_id']), size=(sample_size, i)) for i in range(2, max_group_size)]"
   ]
  },
  {
   "cell_type": "code",
   "execution_count": 15,
   "metadata": {},
   "outputs": [],
   "source": [
    "def geom_odds_aggr(forecasts):\n",
    "    probabilities=forecasts['probability']\n",
    "    probabilities=probabilities/(1-probabilities)\n",
    "    aggregated=statistics.geometric_mean(probabilities)\n",
    "    aggregated=aggregated/(1+aggregated)\n",
    "    return np.array([aggregated])"
   ]
  },
  {
   "cell_type": "code",
   "execution_count": 16,
   "metadata": {},
   "outputs": [],
   "source": [
    "all_group_scores=pd.DataFrame(columns=['size', 'score', 'aggregated'])\n",
    "for i in range(0, max_group_size-2):\n",
    "    for group in groups[i]:\n",
    "        group_table=pd.DataFrame({'user_id': group})\n",
    "        group_forecasts=pd.merge(market_fcasts, group_table, on=['user_id'], how='inner')\n",
    "        aggregated_group_forecasts=iqs.aggregate(group_forecasts, geom_odds_aggr)\n",
    "        group_scores=iqs.score(group_forecasts, brier_score)['score']\n",
    "        aggregated_group_scores=iqs.score(aggregated_group_forecasts, brier_score)['score']\n",
    "        group_score=np.mean(group_scores)\n",
    "        aggregated_group_score=np.mean(aggregated_group_scores)\n",
    "        nf=pd.DataFrame({'size': [i+2, i+2], 'score': [group_score, aggregated_group_score], 'aggregated': [False, True]})\n",
    "        all_group_scores=pd.concat([all_group_scores, nf])"
   ]
  },
  {
   "cell_type": "code",
   "execution_count": 17,
   "metadata": {},
   "outputs": [
    {
     "data": {
      "text/html": [
       "<div>\n",
       "<style scoped>\n",
       "    .dataframe tbody tr th:only-of-type {\n",
       "        vertical-align: middle;\n",
       "    }\n",
       "\n",
       "    .dataframe tbody tr th {\n",
       "        vertical-align: top;\n",
       "    }\n",
       "\n",
       "    .dataframe thead th {\n",
       "        text-align: right;\n",
       "    }\n",
       "</style>\n",
       "<table border=\"1\" class=\"dataframe\">\n",
       "  <thead>\n",
       "    <tr style=\"text-align: right;\">\n",
       "      <th></th>\n",
       "      <th>size</th>\n",
       "      <th>aggregated</th>\n",
       "      <th>score</th>\n",
       "      <th>percentile</th>\n",
       "    </tr>\n",
       "  </thead>\n",
       "  <tbody>\n",
       "    <tr>\n",
       "      <th>0</th>\n",
       "      <td>2</td>\n",
       "      <td>False</td>\n",
       "      <td>0.151733</td>\n",
       "      <td>0.479694</td>\n",
       "    </tr>\n",
       "    <tr>\n",
       "      <th>1</th>\n",
       "      <td>2</td>\n",
       "      <td>True</td>\n",
       "      <td>0.143198</td>\n",
       "      <td>0.537193</td>\n",
       "    </tr>\n",
       "    <tr>\n",
       "      <th>2</th>\n",
       "      <td>3</td>\n",
       "      <td>False</td>\n",
       "      <td>0.145980</td>\n",
       "      <td>0.514676</td>\n",
       "    </tr>\n",
       "    <tr>\n",
       "      <th>3</th>\n",
       "      <td>3</td>\n",
       "      <td>True</td>\n",
       "      <td>0.135161</td>\n",
       "      <td>0.605147</td>\n",
       "    </tr>\n",
       "    <tr>\n",
       "      <th>4</th>\n",
       "      <td>4</td>\n",
       "      <td>False</td>\n",
       "      <td>0.146927</td>\n",
       "      <td>0.509047</td>\n",
       "    </tr>\n",
       "    <tr>\n",
       "      <th>...</th>\n",
       "      <td>...</td>\n",
       "      <td>...</td>\n",
       "      <td>...</td>\n",
       "      <td>...</td>\n",
       "    </tr>\n",
       "    <tr>\n",
       "      <th>191</th>\n",
       "      <td>97</td>\n",
       "      <td>True</td>\n",
       "      <td>0.100750</td>\n",
       "      <td>0.808203</td>\n",
       "    </tr>\n",
       "    <tr>\n",
       "      <th>192</th>\n",
       "      <td>98</td>\n",
       "      <td>False</td>\n",
       "      <td>0.144504</td>\n",
       "      <td>0.526739</td>\n",
       "    </tr>\n",
       "    <tr>\n",
       "      <th>193</th>\n",
       "      <td>98</td>\n",
       "      <td>True</td>\n",
       "      <td>0.098858</td>\n",
       "      <td>0.817451</td>\n",
       "    </tr>\n",
       "    <tr>\n",
       "      <th>194</th>\n",
       "      <td>99</td>\n",
       "      <td>False</td>\n",
       "      <td>0.145014</td>\n",
       "      <td>0.522718</td>\n",
       "    </tr>\n",
       "    <tr>\n",
       "      <th>195</th>\n",
       "      <td>99</td>\n",
       "      <td>True</td>\n",
       "      <td>0.099817</td>\n",
       "      <td>0.811821</td>\n",
       "    </tr>\n",
       "  </tbody>\n",
       "</table>\n",
       "<p>196 rows × 4 columns</p>\n",
       "</div>"
      ],
      "text/plain": [
       "     size  aggregated     score  percentile\n",
       "0       2       False  0.151733    0.479694\n",
       "1       2        True  0.143198    0.537193\n",
       "2       3       False  0.145980    0.514676\n",
       "3       3        True  0.135161    0.605147\n",
       "4       4       False  0.146927    0.509047\n",
       "..    ...         ...       ...         ...\n",
       "191    97        True  0.100750    0.808203\n",
       "192    98       False  0.144504    0.526739\n",
       "193    98        True  0.098858    0.817451\n",
       "194    99       False  0.145014    0.522718\n",
       "195    99        True  0.099817    0.811821\n",
       "\n",
       "[196 rows x 4 columns]"
      ]
     },
     "execution_count": 17,
     "metadata": {},
     "output_type": "execute_result"
    }
   ],
   "source": [
    "group_scores=all_group_scores.groupby(['size', 'aggregated']).apply(lambda x: np.mean(x['score']))\n",
    "group_scores=group_scores.reset_index(name='score')\n",
    "group_scores['percentile']=group_scores['score'].apply(lambda x: len(np.where(trader_scores['score']>x)[0])/len(trader_scores))\n",
    "group_scores"
   ]
  },
  {
   "cell_type": "code",
   "execution_count": 18,
   "metadata": {},
   "outputs": [
    {
     "data": {
      "text/plain": [
       "<matplotlib.legend.Legend at 0x7f9613682cd0>"
      ]
     },
     "execution_count": 18,
     "metadata": {},
     "output_type": "execute_result"
    },
    {
     "data": {
      "image/png": "[encoded data removed]",
      "text/plain": [
       "<Figure size 1152x432 with 1 Axes>"
      ]
     },
     "metadata": {
      "needs_background": "light"
     },
     "output_type": "display_data"
    }
   ],
   "source": [
    "notaggregated=group_scores.loc[group_scores['aggregated']==False].set_index(['size'])\n",
    "aggregated=group_scores.loc[group_scores['aggregated']==True].set_index(['size'])\n",
    "fig=plt.figure(figsize=(16,6))\n",
    "plt.xlabel('Forecaster group size')\n",
    "plt.ylabel('Group score percentile')\n",
    "plt.plot(notaggregated['percentile'], color='blue', label='not aggregated percentile')\n",
    "plt.plot(aggregated['percentile'], color='red', label='aggregated percentile')\n",
    "\n",
    "plt.legend(loc='lower left')"
   ]
  }
 ],
 "metadata": {
  "kernelspec": {
   "display_name": "Python 3 (ipykernel)",
   "language": "python",
   "name": "python3"
  },
  "language_info": {
   "codemirror_mode": {
    "name": "ipython",
    "version": 3
   },
   "file_extension": ".py",
   "mimetype": "text/x-python",
   "name": "python",
   "nbconvert_exporter": "python",
   "pygments_lexer": "ipython3",
   "version": "3.11.3"
  }
 },
 "nbformat": 4,
 "nbformat_minor": 4
}
